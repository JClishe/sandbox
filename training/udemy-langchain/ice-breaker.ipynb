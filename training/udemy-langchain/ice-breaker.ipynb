{
 "cells": [
  {
   "cell_type": "code",
   "execution_count": 1,
   "metadata": {},
   "outputs": [
    {
     "data": {
      "text/plain": [
       "True"
      ]
     },
     "execution_count": 1,
     "metadata": {},
     "output_type": "execute_result"
    }
   ],
   "source": [
    "from dotenv import load_dotenv\n",
    "from langchain.chains import LLMChain\n",
    "from langchain_core.prompts import PromptTemplate, ChatPromptTemplate\n",
    "from langchain_google_genai import ChatGoogleGenerativeAI, HarmBlockThreshold, HarmCategory\n",
    "import os\n",
    "import requests\n",
    "\n",
    "load_dotenv()"
   ]
  },
  {
   "cell_type": "code",
   "execution_count": 2,
   "metadata": {},
   "outputs": [],
   "source": [
    "summary_template = \"\"\"\n",
    "Given the information {information} about a person, I want you to create:\n",
    "1. A short summary\n",
    "2. Two interesting facts about them\n",
    "\"\"\"\n",
    "\n",
    "summary_prompt_template = PromptTemplate(\n",
    "    input_variables=[\"information\"],\n",
    "    template=summary_template\n",
    ")"
   ]
  },
  {
   "cell_type": "code",
   "execution_count": 3,
   "metadata": {},
   "outputs": [],
   "source": [
    "llm = ChatGoogleGenerativeAI(\n",
    "    model=\"gemini-pro\",\n",
    "    convert_system_message_to_human=True,\n",
    "    temperature=0.8,\n",
    "    streaming=True,\n",
    "    safety_settings={\n",
    "        HarmCategory.HARM_CATEGORY_HATE_SPEECH: HarmBlockThreshold.BLOCK_NONE,\n",
    "        HarmCategory.HARM_CATEGORY_DANGEROUS_CONTENT: HarmBlockThreshold.BLOCK_NONE,\n",
    "        HarmCategory.HARM_CATEGORY_HARASSMENT: HarmBlockThreshold.BLOCK_NONE,\n",
    "        HarmCategory.HARM_CATEGORY_SEXUALLY_EXPLICIT: HarmBlockThreshold.BLOCK_NONE,\n",
    "    },\n",
    ")"
   ]
  },
  {
   "cell_type": "code",
   "execution_count": 4,
   "metadata": {},
   "outputs": [],
   "source": [
    "chain = LLMChain(llm=llm, prompt=summary_prompt_template)\n",
    "# res = chain.invoke(input={\"information\": information})\n",
    "\n",
    "# print(res)"
   ]
  },
  {
   "cell_type": "code",
   "execution_count": 5,
   "metadata": {},
   "outputs": [],
   "source": [
    "\n",
    "def scrape_linkedin_profile(linkedin_profile_url: str):\n",
    "    \"\"\"Scrape information from LinkedIn profiles\n",
    "    Manually scrape the information from the LinkedIn profile\"\"\"\n",
    "    api_endpoint = 'https://nubela.co/proxycurl/api/v2/linkedin'\n",
    "    header_dic = {'Authorization': f'Bearer {os.environ.get(\"PROXYCURL_API_KEY\")}'}\n",
    "\n",
    "    response = requests.get(\n",
    "        api_endpoint, params={\"url\": linkedin_profile_url}, headers=header_dic\n",
    "    )\n",
    "\n",
    "    # Clean null and unneeded data from response:\n",
    "\n",
    "    data = response.json()\n",
    "    data = {\n",
    "        k: v\n",
    "        for k, v in data.items()\n",
    "        if v not in ([], \"\", \"\", None)\n",
    "        and k not in [\"people_also_viewed\"] # can optionally add , \"certifications\" inside brackets (include comma and space after \"people_also_viewed\")\n",
    "    }\n",
    "\n",
    "    if data.get(\"groups\"):\n",
    "        for group_dict in data.get(\"groups\"):\n",
    "            group_dict.pop(\"profile_pic_url\")\n",
    "\n",
    "    return data\n",
    "\n",
    "linkedin_data = scrape_linkedin_profile(linkedin_profile_url='https://www.linkedin.com/in/harrison-chase-961287118')\n",
    "# print(linkedin_data)"
   ]
  },
  {
   "cell_type": "code",
   "execution_count": 6,
   "metadata": {},
   "outputs": [
    {
     "name": "stderr",
     "output_type": "stream",
     "text": [
      "/Users/jasonclishe/JC/repos/.venv/lib/python3.12/site-packages/langchain_core/_api/deprecation.py:117: LangChainDeprecationWarning: The function `run` was deprecated in LangChain 0.1.0 and will be removed in 0.2.0. Use invoke instead.\n",
      "  warn_deprecated(\n"
     ]
    },
    {
     "name": "stdout",
     "output_type": "stream",
     "text": [
      "**Summary:**\n",
      "\n",
      "Harrison Chase is the Co-Founder and CEO of LangChain, a technology company focused on using machine learning for language understanding. He has a strong background in machine learning and software engineering, and has held previous roles at Robust Intelligence and Kensho Technologies.\n",
      "\n",
      "**Interesting Facts:**\n",
      "\n",
      "* Harrison Chase has a degree from Harvard University.\n",
      "* Harrison Chase's interests include sports, machine learning, software engineering, and statistics.\n"
     ]
    }
   ],
   "source": [
    "print(chain.run(information=linkedin_data))"
   ]
  }
 ],
 "metadata": {
  "kernelspec": {
   "display_name": ".venv",
   "language": "python",
   "name": "python3"
  },
  "language_info": {
   "codemirror_mode": {
    "name": "ipython",
    "version": 3
   },
   "file_extension": ".py",
   "mimetype": "text/x-python",
   "name": "python",
   "nbconvert_exporter": "python",
   "pygments_lexer": "ipython3",
   "version": "3.12.2"
  }
 },
 "nbformat": 4,
 "nbformat_minor": 2
}
