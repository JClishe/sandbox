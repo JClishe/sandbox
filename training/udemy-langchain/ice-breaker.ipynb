{
 "cells": [
  {
   "cell_type": "code",
   "execution_count": 1,
   "metadata": {},
   "outputs": [
    {
     "data": {
      "text/plain": [
       "True"
      ]
     },
     "execution_count": 1,
     "metadata": {},
     "output_type": "execute_result"
    }
   ],
   "source": [
    "from dotenv import load_dotenv\n",
    "from langchain.chains import LLMChain\n",
    "from langchain_core.prompts import PromptTemplate, ChatPromptTemplate\n",
    "from langchain_google_genai import ChatGoogleGenerativeAI, HarmBlockThreshold, HarmCategory\n",
    "from linkedin_lookup_agent import lookup as linkedin_lookup_agent\n",
    "from linkedin import scrape_linkedin_profile \n",
    "import os\n",
    "import requests\n",
    "\n",
    "load_dotenv()"
   ]
  },
  {
   "cell_type": "code",
   "execution_count": 2,
   "metadata": {},
   "outputs": [
    {
     "name": "stdout",
     "output_type": "stream",
     "text": [
      "\n",
      "\n",
      "\u001b[1m> Entering new AgentExecutor chain...\u001b[0m\n",
      "\u001b[32;1m\u001b[1;3mAction: Crawl Google for LinkedIn profile page\n",
      "Action Input: Jason Clishe\u001b[0m\u001b[36;1m\u001b[1;3m[\"I am a 25+ year computer industry veteran, and have been working with cloud solutions… | Learn more about Jason Clishe's work experience, education, ...\", 'Jason Clishe is a freelance photographer near Cincinnati, OH. He specializes in motocross, drone, and glamour photography.', 'Technology Specialist by trade. Ironman triathlete turned cyclist, private pilot, photographer. Member of the Flying Neutrons flying club based at the ...', 'Technology Specialist, private pilot, Ironman triathlete, photographer. Fueled by coffee and craft beer. Cincinnati, OH Joined December 2007.', 'Read writing from Jason Clishe on Medium. Cloud Solution Architect at CDW, GCP Professional Cloud Architect, 2-time Ironman triathlon finisher, ...', \"I'm happy to share that I've obtained a new certification: Google Cloud Professional Cloud DevOps Engineer from Google!\", 'Professionally, I help organizations solve business and technical problems with cloud technologies. Specifically Google Compute Platform and Infrastructure ...', \"See what Jason Clishe (jasonclishe) has discovered on Pinterest, the world's biggest collection of ideas.\", 'Jason E Clishe, 48 years old, born in Apr 1975. Our records show its resident in 45152 Morrow Ohio. Check location, voter profile, neighbors and more.']\u001b[0m\u001b[32;1m\u001b[1;3mFinal Answer: I am sorry, I could not find a LinkedIn profile for Jason Clishe.\u001b[0m\n",
      "\n",
      "\u001b[1m> Finished chain.\u001b[0m\n"
     ]
    }
   ],
   "source": [
    "linkedin_profile_url = linkedin_lookup_agent(name=\"Jason Clishe\")\n",
    "\n",
    "summary_template = \"\"\"\n",
    "Given the information {information} about a person, I want you to create:\n",
    "1. A short summary\n",
    "2. Two interesting facts about them\n",
    "\"\"\"\n",
    "\n",
    "summary_prompt_template = PromptTemplate(\n",
    "    input_variables=[\"information\"],\n",
    "    template=summary_template\n",
    ")"
   ]
  },
  {
   "cell_type": "code",
   "execution_count": 3,
   "metadata": {},
   "outputs": [
    {
     "name": "stdout",
     "output_type": "stream",
     "text": [
      "I am sorry, I could not find a LinkedIn profile for Jason Clishe.\n"
     ]
    }
   ],
   "source": [
    "print(linkedin_profile_url)"
   ]
  },
  {
   "cell_type": "code",
   "execution_count": null,
   "metadata": {},
   "outputs": [],
   "source": [
    "llm = ChatGoogleGenerativeAI(\n",
    "    model=\"gemini-pro\",\n",
    "    convert_system_message_to_human=True,\n",
    "    temperature=0.8,\n",
    "    streaming=True,\n",
    "    safety_settings={\n",
    "        HarmCategory.HARM_CATEGORY_HATE_SPEECH: HarmBlockThreshold.BLOCK_NONE,\n",
    "        HarmCategory.HARM_CATEGORY_DANGEROUS_CONTENT: HarmBlockThreshold.BLOCK_NONE,\n",
    "        HarmCategory.HARM_CATEGORY_HARASSMENT: HarmBlockThreshold.BLOCK_NONE,\n",
    "        HarmCategory.HARM_CATEGORY_SEXUALLY_EXPLICIT: HarmBlockThreshold.BLOCK_NONE,\n",
    "    },\n",
    ")"
   ]
  },
  {
   "cell_type": "code",
   "execution_count": null,
   "metadata": {},
   "outputs": [],
   "source": [
    "chain = LLMChain(llm=llm, prompt=summary_prompt_template)"
   ]
  },
  {
   "cell_type": "code",
   "execution_count": null,
   "metadata": {},
   "outputs": [],
   "source": [
    "linkedin_data = scrape_linkedin_profile(\n",
    "    linkedin_profile_url=linkedin_profile_url\n",
    "    )"
   ]
  },
  {
   "cell_type": "code",
   "execution_count": null,
   "metadata": {},
   "outputs": [],
   "source": [
    "print(chain.run(information=linkedin_data))"
   ]
  }
 ],
 "metadata": {
  "kernelspec": {
   "display_name": ".venv",
   "language": "python",
   "name": "python3"
  },
  "language_info": {
   "codemirror_mode": {
    "name": "ipython",
    "version": 3
   },
   "file_extension": ".py",
   "mimetype": "text/x-python",
   "name": "python",
   "nbconvert_exporter": "python",
   "pygments_lexer": "ipython3",
   "version": "3.12.2"
  }
 },
 "nbformat": 4,
 "nbformat_minor": 2
}
