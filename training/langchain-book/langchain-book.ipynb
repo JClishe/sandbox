{
 "cells": [
  {
   "cell_type": "code",
   "execution_count": 1,
   "metadata": {},
   "outputs": [
    {
     "data": {
      "text/plain": [
       "False"
      ]
     },
     "execution_count": 1,
     "metadata": {},
     "output_type": "execute_result"
    }
   ],
   "source": [
    "from dotenv import load_dotenv\n",
    "from langchain_google_vertexai import ChatVertexAI, HarmBlockThreshold, HarmCategory\n",
    "from langchain.chains import LLMChain\n",
    "from langchain_core.prompts import PromptTemplate, ChatPromptTemplate\n",
    "import os\n",
    "import requests\n",
    "\n",
    "load_dotenv()"
   ]
  },
  {
   "cell_type": "code",
   "execution_count": 2,
   "metadata": {},
   "outputs": [],
   "source": [
    "llm = ChatVertexAI(\n",
    "    model=\"gemini-1.0-pro\",\n",
    "    convert_system_message_to_human=True,\n",
    "    temperature=0.8,\n",
    "    streaming=True,\n",
    "    safety_settings={\n",
    "    },\n",
    ")"
   ]
  },
  {
   "cell_type": "markdown",
   "metadata": {},
   "source": [
    "# Basic chain"
   ]
  },
  {
   "cell_type": "code",
   "execution_count": 3,
   "metadata": {},
   "outputs": [
    {
     "name": "stdout",
     "output_type": "stream",
     "text": [
      "\n",
      "\n",
      "\u001b[1m> Entering new LLMChain chain...\u001b[0m\n",
      "Prompt after formatting:\n",
      "\u001b[32;1m\u001b[1;3m\n",
      "    Question: What NFL team won the Super Bowl in the year Justin Beiber was born?\n",
      "    Answer: Let's think step by step.\u001b[0m\n",
      "\n",
      "\u001b[1m> Finished chain.\u001b[0m\n"
     ]
    },
    {
     "data": {
      "text/plain": [
       "{'question': 'What NFL team won the Super Bowl in the year Justin Beiber was born?',\n",
       " 'text': \" Sure, let's break it down.\\n\\n1. Identify the year Justin Bieber was born: Justin Bieber was born on March 1, 1994.\\n2. Determine the corresponding Super Bowl year: The Super Bowl is held in February each year, so we need to look at the Super Bowl that occurred in the 1994 NFL season.\\n3. Find the Super Bowl winner: The San Francisco 49ers defeated the San Diego Chargers 49-26 in Super Bowl XXIX, which took place on January 29, 1995.\\n\\nIn summary, the\"}"
      ]
     },
     "execution_count": 3,
     "metadata": {},
     "output_type": "execute_result"
    }
   ],
   "source": [
    "template = \"\"\"\n",
    "    Question: {question}\n",
    "    Answer: Let's think step by step.\"\"\"\n",
    "\n",
    "prompt = PromptTemplate(template=template, input_variables=[\"question\"])\n",
    "\n",
    "llm_chain = LLMChain(prompt=prompt, llm=llm, verbose=True)\n",
    "\n",
    "question = \"What NFL team won the Super Bowl in the year Justin Beiber was born?\"\n",
    "\n",
    "llm_chain.invoke(question)"
   ]
  },
  {
   "cell_type": "code",
   "execution_count": 4,
   "metadata": {},
   "outputs": [],
   "source": [
    "from langchain.agents import AgentExecutor, AgentType, initialize_agent, load_tools\n",
    "\n",
    "def load_agent() -> AgentExecutor:\n",
    "    tools = load_tools(\n",
    "        tool_names=[\"ddg-search\", \"wolfram-alpha\", \"arxiv\", \"wikipedia\"],\n",
    "        llm=llm\n",
    "    )\n",
    "\n",
    "    return initialize_agent(\n",
    "        tools=tools, llm=llm, agent=AgentType.ZERO_SHOT_REACT_DESCRIPTION, verbose=True\n",
    "    )"
   ]
  },
  {
   "cell_type": "markdown",
   "metadata": {},
   "source": [
    "# Action agent"
   ]
  },
  {
   "cell_type": "code",
   "execution_count": null,
   "metadata": {},
   "outputs": [],
   "source": [
    "from typing import Literal\n",
    "from langchain.agents import initialize_agent, load_tools, AgentType\n",
    "from langchain.chains.base import Chain\n",
    "from langchain_experimental.plan_and_execute import (load_chat_planner, load_agent_executor, PlanAndExecute)\n",
    "\n",
    "ReasoningStrategies = Literal[\"zero-shot-react\", \"plan-and-solve\"]\n",
    "\n",
    "def load_agent(\n",
    "        tool_names: list[str],\n",
    "        strategy: ReasoningStrategies = \"zero-shot-react\"\n",
    ") -> Chain:\n",
    "    llm = llm\n",
    "    tools = load_tools(\n",
    "        tool_names=tool_names,\n",
    "        llm=llm\n",
    "    )\n",
    "    if strategy == \"plan-and-solve\":\n",
    "        planner = load_chat_planner(llm)\n",
    "        executor = load_agent_executor(llm, tools, verbose=True)\n",
    "        return PlanAndExecute(planner=planner, executor=executor, verbose=True)\n",
    "    return initialize_agent(\n",
    "        tools=tools, llm=llm, agent=AgentType.ZERO_SHOT_REACT_DESCRIPTION, verbose=True\n",
    "    )"
   ]
  }
 ],
 "metadata": {
  "kernelspec": {
   "display_name": ".venv",
   "language": "python",
   "name": "python3"
  },
  "language_info": {
   "codemirror_mode": {
    "name": "ipython",
    "version": 3
   },
   "file_extension": ".py",
   "mimetype": "text/x-python",
   "name": "python",
   "nbconvert_exporter": "python",
   "pygments_lexer": "ipython3",
   "version": "3.12.2"
  }
 },
 "nbformat": 4,
 "nbformat_minor": 2
}
